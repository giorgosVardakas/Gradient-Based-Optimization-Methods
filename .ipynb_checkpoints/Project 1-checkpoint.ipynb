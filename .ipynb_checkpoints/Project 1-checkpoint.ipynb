{
 "cells": [
  {
   "cell_type": "code",
   "execution_count": 1,
   "metadata": {},
   "outputs": [],
   "source": [
    "import numpy as np\n",
    "import pandas as pd\n",
    "import matplotlib.pyplot as plt\n",
    "from numpy.linalg import inv, cholesky, norm\n",
    "from numpy.linalg.linalg import LinAlgError\n",
    "import pdb\n",
    "#%matplotlib notebook"
   ]
  },
  {
   "cell_type": "code",
   "execution_count": 2,
   "metadata": {},
   "outputs": [
    {
     "name": "stdout",
     "output_type": "stream",
     "text": [
      "    Day  Cases  Scaled Day  Scaled Cases\n",
      "0     1  23060         0.1        2.3060\n",
      "1     2  23495         0.2        2.3495\n",
      "2     3  23947         0.3        2.3947\n",
      "3     4  24450         0.4        2.4450\n",
      "4     5  24932         0.5        2.4932\n",
      "5     6  25370         0.6        2.5370\n",
      "6     7  25802         0.7        2.5802\n",
      "7     8  26469         0.8        2.6469\n",
      "8     9  27334         0.9        2.7334\n",
      "9    10  28216         1.0        2.8216\n",
      "10   11  29057         1.1        2.9057\n",
      "11   12  29992         1.2        2.9992\n",
      "12   13  30782         1.3        3.0782\n",
      "13   14  31496         1.4        3.1496\n",
      "14   15  32752         1.5        3.2752\n",
      "15   16  34299         1.6        3.4299\n",
      "16   17  35510         1.7        3.5510\n",
      "17   18  37196         1.8        3.7196\n",
      "18   19  39251         1.9        3.9251\n",
      "19   20  40929         2.0        4.0929\n",
      "20   21  42080         2.1        4.2080\n",
      "21   22  44246         2.2        4.4246\n",
      "22   23  46892         2.3        4.6892\n",
      "23   24  49807         2.4        4.9807\n",
      "24   25  52254         2.5        5.2254\n",
      "25   26  54809         2.6        5.4809\n",
      "26   27  56698         2.7        5.6698\n",
      "27   28  58187         2.8        5.8187\n",
      "28   29  60570         2.9        6.0570\n",
      "29   30  63321         3.0        6.3321\n"
     ]
    }
   ],
   "source": [
    "df_covid_data = pd.read_csv(\"covid_data_30_GR.dat\", delim_whitespace=True, names = [\"Day\", \"Cases\"])\n",
    "df_covid_data[\"Scaled Day\"] = df_covid_data[\"Day\"].div(10)\n",
    "df_covid_data[\"Scaled Cases\"] = df_covid_data[\"Cases\"].div(10000)\n",
    "print(df_covid_data)"
   ]
  },
  {
   "cell_type": "code",
   "execution_count": 3,
   "metadata": {},
   "outputs": [
    {
     "data": {
      "image/png": "[encoded data removed]",
      "text/plain": [
       "<Figure size 1080x576 with 1 Axes>"
      ]
     },
     "metadata": {
      "needs_background": "light"
     },
     "output_type": "display_data"
    }
   ],
   "source": [
    "title = \"Cumulative covid-19 cases in Greece\"\n",
    "fontsize = 15\n",
    "ax = df_covid_data.plot.scatter(x=\"Day\", y = \"Cases\", figsize=(15, 8))\n",
    "ax.set_xlabel(\"Days since 14/10/2020\", fontsize=fontsize)\n",
    "ax.set_ylabel(\"Cumulative covid-19 cases\", fontsize=fontsize)\n",
    "ax.set_title(title, fontsize=fontsize)\n",
    "ax.grid(True)\n",
    "plt.savefig(title, facecolor='w')\n",
    "plt.show()"
   ]
  },
  {
   "cell_type": "markdown",
   "metadata": {},
   "source": [
    "# Defining the model"
   ]
  },
  {
   "cell_type": "code",
   "execution_count": 4,
   "metadata": {},
   "outputs": [],
   "source": [
    "def model(a, x):\n",
    "    return a[0] + a[1] * x + a[2] * np.power(x, 2) + a[3] * np.power(x, 3) + a[4] * np.power(x, 4)\n",
    "\n",
    "def model_gradient(a, x):\n",
    "    gradient = np.array([[1], \n",
    "                         [x], \n",
    "                         [np.power(x, 2)], \n",
    "                         [np.power(x, 3)], \n",
    "                         [np.power(x, 4)]])\n",
    "    return gradient\n",
    "\n",
    "def model_hessian(a, x):\n",
    "    hessian = np.zeros(shape=(5, 5))\n",
    "    return hessian"
   ]
  },
  {
   "cell_type": "markdown",
   "metadata": {},
   "source": [
    "# Defining the error function (for minimazation)"
   ]
  },
  {
   "cell_type": "code",
   "execution_count": 5,
   "metadata": {},
   "outputs": [],
   "source": [
    "def error_function(model_parameters):\n",
    "    total_error = 0\n",
    "    for index, row in df_covid_data.iterrows():\n",
    "        scaled_day, real_scaled_cases = row[[\"Scaled Day\", \"Scaled Cases\"]]\n",
    "        model_error_i = model(model_parameters, scaled_day) - real_scaled_cases\n",
    "        total_error += np.power(model_error_i, 2)\n",
    "    return total_error\n",
    "\n",
    "def gradient_of_error_function(model_parameters):\n",
    "    gradient = np.zeros(shape=model_parameters.shape)\n",
    "    for index, row in df_covid_data.iterrows():\n",
    "        scaled_day, real_scaled_cases = row[[\"Scaled Day\", \"Scaled Cases\"]]\n",
    "        gradient_i = 2 * (model(model_parameters, scaled_day) - real_scaled_cases) * model_gradient(model_parameters, scaled_day)\n",
    "        gradient = np.add(gradient, gradient_i)\n",
    "    return gradient\n",
    "\n",
    "def hessian_of_error_function(model_parameters):\n",
    "    hessian = np.zeros(shape=(model_parameters.shape[0], model_parameters.shape[0]))\n",
    "    for index, row in df_covid_data.iterrows():\n",
    "        scaled_day, real_scaled_cases = row[[\"Scaled Day\", \"Scaled Cases\"]]\n",
    "        hessian_i = 2 * (model_gradient(model_parameters, scaled_day) @ np.transpose(model_gradient(model_parameters, scaled_day))\n",
    "                        + model(model_parameters, scaled_day) * model_hessian(model_parameters, scaled_day)\n",
    "                        - real_scaled_cases * model_hessian(model_parameters, scaled_day))\n",
    "        hessian = np.add(hessian, hessian_i)\n",
    "    return hessian"
   ]
  },
  {
   "cell_type": "markdown",
   "metadata": {},
   "source": [
    "## Cholesky method"
   ]
  },
  {
   "cell_type": "code",
   "execution_count": 6,
   "metadata": {},
   "outputs": [],
   "source": [
    "def cholesky_method(hessian):\n",
    "    # If he is then the inverse of hessian is positive defiend too\n",
    "    # If not then cholesky will raise error\n",
    "    try:\n",
    "        cholesky(hessian)\n",
    "        return True\n",
    "    except LinAlgError as err:\n",
    "        print(err)\n",
    "        return False"
   ]
  },
  {
   "cell_type": "markdown",
   "metadata": {},
   "source": [
    "## Hessian matrix modification"
   ]
  },
  {
   "cell_type": "code",
   "execution_count": 7,
   "metadata": {},
   "outputs": [],
   "source": [
    "def hessian_modification(hessian_xk, beta):\n",
    "    diagonal_elemets = np.diag(hessian_xk)\n",
    "    min_diag_element = np.min(diagonal_elemets)\n",
    "    I = np.identity(hessian_xk.shape[0])\n",
    "    max_iteration = 100\n",
    "    \n",
    "    t = 0\n",
    "    if (min_diag_element <= 0):\n",
    "        t = -min_diag_element + beta\n",
    "    \n",
    "    for i in range(max_iteration):\n",
    "        try:\n",
    "            L = cholesky(np.add(hessian_xk, t * I))\n",
    "            return L\n",
    "        except LinAlgError as err:\n",
    "            t = max(t * 2, beta)\n",
    "            \n",
    "    return I"
   ]
  },
  {
   "cell_type": "markdown",
   "metadata": {},
   "source": [
    "# For line seach methods"
   ]
  },
  {
   "cell_type": "markdown",
   "metadata": {},
   "source": [
    "## Strong Wolf Conditions"
   ]
  },
  {
   "cell_type": "code",
   "execution_count": 8,
   "metadata": {},
   "outputs": [],
   "source": [
    "def strong_wolf_conditions(pk, xk, a_max = 2, c2 = 1e-1):\n",
    "    c1 = 10e-4\n",
    "    ai_low = 0\n",
    "    ai = interpolate(ai_low, a_max)\n",
    "    iteration = 0\n",
    "    line_a = lambda xk, a, pk: np.add(xk, a * pk)\n",
    "    \n",
    "    while True:\n",
    "        # f(xk + a * pk)\n",
    "        f_ai = error_function(line_a(xk, ai, pk))[0]\n",
    "        \n",
    "        # f(xk + 0 * pk)\n",
    "        f_0 = error_function(xk)[0]\n",
    "        \n",
    "        # f'(xk + 0 * pk)\n",
    "        f_gradient_0 = (np.transpose(gradient_of_error_function(xk)) @ pk)[0][0]\n",
    "        \n",
    "        # f(xk + ai_low * pk)\n",
    "        f_ai_low = error_function(line_a(xk, ai_low, pk))[0]\n",
    "        \n",
    "        # Armijo condition false\n",
    "        armijo_condition = f_ai > f_0 + c1 * ai * f_gradient_0\n",
    "        \n",
    "        if ((armijo_condition) or (f_ai >= f_ai_low and iteration > 0)):\n",
    "            #print(\"A\")\n",
    "            return zoom(c1, c2, line_a, f_0, f_gradient_0, pk, xk, ai_low, ai)\n",
    "            \n",
    "        # f'(xk + ai * pk)\n",
    "        f_gradient_ai = (np.transpose(gradient_of_error_function(line_a(xk, ai, pk))) @ pk)[0][0]\n",
    "        \n",
    "        # Curvature condition \n",
    "        curvature_condition = abs(f_gradient_ai) <= -c2 * f_gradient_0\n",
    "        \n",
    "        # If both conditions true return ai\n",
    "        if(curvature_condition):\n",
    "            return ai\n",
    "        \n",
    "        if(f_gradient_ai >= 0):\n",
    "            return zoom(c1, c2, line_a, f_0, f_gradient_0, pk, xk, ai, ai_low)\n",
    "        \n",
    "        ai_low = ai\n",
    "        ai = interpolate(ai_low, a_max)\n",
    "        iteration += 1"
   ]
  },
  {
   "cell_type": "code",
   "execution_count": 9,
   "metadata": {},
   "outputs": [],
   "source": [
    "def zoom(c1, c2, line, f_0, f_gradient_0, pk, xk, a_low, a_high):\n",
    "    iteration = 0\n",
    "    max_iteration = 100\n",
    "    while True:\n",
    "        aj = interpolate(a_low, a_high)\n",
    "        \n",
    "        # f(xk + aj * pk)\n",
    "        f_aj = error_function(line(xk, aj, pk))[0]\n",
    "        \n",
    "        # Armijo condition false\n",
    "        armijo_condition = f_aj > f_0 + c1 * aj * f_gradient_0\n",
    "        \n",
    "        # f(xk + a_low * pk)\n",
    "        f_a_low = error_function(line(xk, a_low, pk))[0]\n",
    "        \n",
    "        # If armijo condition false make a_high smaller\n",
    "        if ((armijo_condition) or (f_aj >= f_a_low)):\n",
    "            a_high = aj\n",
    "        else:\n",
    "            # f'(xk + aj * pk)\n",
    "            f_gradient_aj = (np.transpose(gradient_of_error_function(line(xk, aj, pk))) @ pk)[0][0]\n",
    "            \n",
    "            # Curvature condition \n",
    "            curvature_condition = abs(f_gradient_aj) <= -c2 * f_gradient_0\n",
    "            \n",
    "            # If both conditions true return aj\n",
    "            if(curvature_condition):\n",
    "                return aj\n",
    "            \n",
    "            # If gradient is positive then make a_high smaller\n",
    "            if(f_gradient_aj * (a_high - a_low) >= 0):\n",
    "                a_high = a_low\n",
    "                \n",
    "            a_low = aj\n",
    "            \n",
    "        iteration += 1\n",
    "        if(iteration > max_iteration):\n",
    "            return interpolate(a_low, a_high)"
   ]
  },
  {
   "cell_type": "code",
   "execution_count": 10,
   "metadata": {},
   "outputs": [],
   "source": [
    "def interpolate(a_low, a_high):\n",
    "    # Using Bisection\n",
    "    return (a_low + a_high) / 2"
   ]
  },
  {
   "cell_type": "markdown",
   "metadata": {},
   "source": [
    "## Line search methods"
   ]
  },
  {
   "cell_type": "code",
   "execution_count": 11,
   "metadata": {},
   "outputs": [],
   "source": [
    "def steepest_descent_wolf_conditions(init_parameters):\n",
    "    iteration = 0\n",
    "    max_iterations = 1000\n",
    "    xk = init_parameters\n",
    "    error_list = list()\n",
    "    error_list.append(error_function(xk))\n",
    "    \n",
    "    while (iteration < max_iterations and norm(gradient_of_error_function(xk)) > 1e-6):\n",
    "        # Calculating the gradient\n",
    "        gradient_xk = gradient_of_error_function(xk)\n",
    "\n",
    "        # Steepest descent as direction\n",
    "        pk = -gradient_xk\n",
    "\n",
    "        # Chosing step size, choosing c2=1e-1 for steepest_descent\n",
    "        a = strong_wolf_conditions(pk, xk, c2 = 1e-1)\n",
    "\n",
    "        # Updating the new xk_1\n",
    "        xk_1 = np.add(xk, a * pk)\n",
    "\n",
    "        # Calculating error just for ploting\n",
    "        error = error_function(xk_1)\n",
    "        error_list.append(error)\n",
    "        \n",
    "        print(\"Iter=%d, Step=%.1E, Error=%.3f\" % (iteration, a, error))\n",
    "        \n",
    "        # Update iteration and xk\n",
    "        iteration += 1\n",
    "        xk = xk_1\n",
    "    \n",
    "    return xk, error_list"
   ]
  },
  {
   "cell_type": "code",
   "execution_count": 12,
   "metadata": {},
   "outputs": [],
   "source": [
    "def newton_direction_wolf_conditions(init_parameters):\n",
    "    iteration = 0\n",
    "    max_iterations = 1000\n",
    "    xk = init_parameters\n",
    "    error_list = list()\n",
    "    error_list.append(error_function(xk))\n",
    "    \n",
    "    while (iteration < max_iterations and norm(gradient_of_error_function(xk)) > 1e-6):\n",
    "        # Calculating the gradient and the hessian\n",
    "        gradient_xk = gradient_of_error_function(xk)\n",
    "        hessian_xk = hessian_of_error_function(xk)\n",
    "        \n",
    "        # Checking if hessian is positive defined\n",
    "        pos_defined = cholesky_method(hessian_xk)\n",
    "        \n",
    "        # If hessian is not positive defined then modify it\n",
    "        if (not pos_defined):\n",
    "            hessian_xk = hessian_modification(hessian_xk, beta=1)\n",
    "        \n",
    "        # Newton direction\n",
    "        pk = -inv(hessian_xk) @ gradient_xk\n",
    "        \n",
    "        # Chosing step size, choosing c2=9e-1 for newton diration\n",
    "        a = strong_wolf_conditions(pk, xk, c2=9e-1)\n",
    "\n",
    "        # Updating the new xk_1\n",
    "        xk_1 = np.add(xk, a * pk)\n",
    "        \n",
    "        # Calculating error just for ploting\n",
    "        error = error_function(xk_1)\n",
    "        error_list.append(error)\n",
    "\n",
    "        print(\"Iter=%d, Step=%.1E, Error=%.3f\" % (iteration, a, error))\n",
    "\n",
    "        # Update iteration and xk\n",
    "        iteration += 1\n",
    "        xk = xk_1\n",
    "    \n",
    "    return xk, error_list"
   ]
  },
  {
   "cell_type": "code",
   "execution_count": 64,
   "metadata": {},
   "outputs": [],
   "source": [
    "def BFGS_wolf_conditions(init_parameters, hessian_approx):\n",
    "    iteration = 0\n",
    "    max_iterations = 1000\n",
    "    I = np.identity(init_parameters.shape[0])\n",
    "    hessian_xk = hessian_approx\n",
    "    xk = init_parameters\n",
    "    error_list = list()\n",
    "    error_list.append(error_function(xk)[0])\n",
    "    \n",
    "    while (iteration < max_iterations and norm(gradient_of_error_function(xk)) > 1e-6):\n",
    "        # Calculating the gradient and the hessian\n",
    "        gradient_xk = gradient_of_error_function(xk)\n",
    "                \n",
    "        # Checking if hessian is positive defined only in the first iteration\n",
    "        if(iteration == 0):\n",
    "            pos_defined = cholesky_method(hessian_xk)\n",
    "            if (not pos_defined):\n",
    "                hessian_xk = hessian_modification(hessian_xk, beta=1)\n",
    "        \n",
    "        # Newton direction\n",
    "        pk = -hessian_xk @ gradient_xk\n",
    "        \n",
    "        # Chosing step size\n",
    "        a = strong_wolf_conditions(pk, xk, c2 = 1e-1)\n",
    "\n",
    "        # Updating the new xk_1\n",
    "        xk_1 = np.add(xk, a * pk)\n",
    "\n",
    "        # Calculating sk\n",
    "        sk = np.subtract(xk_1, xk)\n",
    "        \n",
    "        # Calculating the next gradient\n",
    "        gradient_xk_1 = gradient_of_error_function(xk_1)\n",
    "        \n",
    "        # Calculating yk\n",
    "        yk = np.subtract(gradient_xk_1, gradient_xk)\n",
    "        \n",
    "        # BFGS method for updating the Hessian\n",
    "        # Calculating rk\n",
    "        \n",
    "        # To solve problem with numbers close to zero\n",
    "        if (np.transpose(yk) @ sk <= 0):\n",
    "            break\n",
    "        \n",
    "        rk = 1 / (np.transpose(yk) @ sk)\n",
    "        \n",
    "        # Update Hessian\n",
    "        matrix_1 = (I - rk * sk @ np.transpose(yk))\n",
    "        matrix_2 = (I - rk * yk @ np.transpose(sk))\n",
    "        hessian_xk = matrix_1 @ hessian_xk @ matrix_2 + rk * sk @ np.transpose(sk)\n",
    "        \n",
    "        # Calculating error just for ploting\n",
    "        error = error_function(xk_1)\n",
    "        error_list.append(error[0])\n",
    "        \n",
    "        print(\"Iter=%d, Step=%.1E, Error=%.3f\" % (iteration, a, error))\n",
    "        \n",
    "        # Update iteration, xk and gradient_prev\n",
    "        iteration += 1\n",
    "        xk = xk_1\n",
    "    \n",
    "    return xk, error_list"
   ]
  },
  {
   "cell_type": "markdown",
   "metadata": {},
   "source": [
    "# For trust region methods"
   ]
  },
  {
   "cell_type": "code",
   "execution_count": 65,
   "metadata": {},
   "outputs": [],
   "source": [
    "def get_direction(xk, Bk, deltak):\n",
    "    # Calculating gradient at k just one time\n",
    "    gradient_k = gradient_of_error_function(xk)\n",
    "    \n",
    "    pB = -inv(Bk) @ gradient_k\n",
    "    \n",
    "    # If inside trust region\n",
    "    if (norm(pB, 2) <= deltak):\n",
    "        print(\"Newton point\")\n",
    "        return pB\n",
    "    # If outside trust region\n",
    "    else:\n",
    "        # Cauchy point\n",
    "        pU = -((np.transpose(gradient_k) @ gradient_k)\n",
    "            / (np.transpose(gradient_k) @ Bk @ gradient_k)) * gradient_k\n",
    "        # If outside trust region, cut it at trust region border\n",
    "        if (norm(pU, 2) >= deltak):\n",
    "            print(\"Cauchy point\")            \n",
    "            return -(deltak / norm(gradient_k, 2) * gradient_k)\n",
    "        # If inside trust region, do dogleg\n",
    "        else:\n",
    "            print(\"Dogleg point\")\n",
    "            t = solve(pB, pU, deltak)\n",
    "            return pU + (t - 1) * np.subtract(pB, pU)"
   ]
  },
  {
   "cell_type": "code",
   "execution_count": 66,
   "metadata": {},
   "outputs": [],
   "source": [
    "# Bisection method\n",
    "def solve(pB, pU, deltak):\n",
    "    iteration = 0\n",
    "    t_lower = 1\n",
    "    t_upper = 2\n",
    "    error = 1e-9\n",
    "    equation = lambda ti: np.power(norm(pU + (ti - 1) * (pB - pU), 2), 2) - np.power(deltak, 2)\n",
    "    \n",
    "    while True:\n",
    "        iteration += 1    \n",
    "        ti = (1 / 2) * (t_upper + t_lower)\n",
    "    \n",
    "        if (abs(equation(ti)) <= error):\n",
    "            return ti\n",
    "        else:\n",
    "            if (equation(t_lower) * equation(ti) < 0):\n",
    "                t_upper = ti\n",
    "            else:\n",
    "                t_lower = ti\n",
    "                \n",
    "            if(t_upper - t_lower < error):\n",
    "                return ti"
   ]
  },
  {
   "cell_type": "markdown",
   "metadata": {},
   "source": [
    "## Thrust region method"
   ]
  },
  {
   "cell_type": "code",
   "execution_count": 67,
   "metadata": {},
   "outputs": [],
   "source": [
    "def newton_method_safe_region(init_parameters):\n",
    "    iteration = 0\n",
    "    max_iterations = 1000\n",
    "    delta_low, delta_max = 0, 1\n",
    "    delta_i = (delta_low + delta_max) / 2\n",
    "    htta = 1 / 4\n",
    "    xk = init_parameters\n",
    "    step = lambda xk, pk: np.add(xk, pk)\n",
    "    mk = lambda xk, pk, Bk: error_function(xk) + (np.transpose(gradient_of_error_function(xk)) @ pk)[0][0] + ((1 / 2) * np.transpose(pk) @ Bk @ pk)[0][0]\n",
    "    error_list = list()\n",
    "    error_list.append(error_function(xk))\n",
    "    \n",
    "    while (iteration < max_iterations and norm(gradient_of_error_function(xk)) > 1e-6):\n",
    "        # Calculating hessian\n",
    "        hessian_xk = hessian_of_error_function(xk)\n",
    "\n",
    "        # Checking if hessian is positive defined\n",
    "        pos_defined = cholesky_method(hessian_xk)\n",
    "        if (not pos_defined):\n",
    "            hessian_xk = hessian_modification(hessian_xk, 1)\n",
    "\n",
    "        # Chosing the descent direction\n",
    "        pk = get_direction(xk, hessian_xk, delta_i)\n",
    "\n",
    "        # rk quantifies the quality of the solution\n",
    "        real_reduction = error_function(xk) - error_function(step(xk, pk))\n",
    "        approximate_reduction = mk(xk, np.zeros(pk.shape), hessian_xk) - mk(xk, pk, hessian_xk)\n",
    "        rk = real_reduction / approximate_reduction\n",
    "\n",
    "        # Fixing the trust region for next iteration\n",
    "        # Case rk close to 0\n",
    "        if (rk < 1 / 4):\n",
    "            delta_i = (1 / 4) * delta_i\n",
    "        # Case rk close to 1\n",
    "        elif ((rk > 3 / 4) and (norm(pk, 2) > delta_i)):\n",
    "            delta_i = min(2 * delta_i, delta_max)\n",
    "        # Case where 0 << rk < 1\n",
    "        else:\n",
    "            delta_i = delta_i\n",
    "\n",
    "        # Checking if we accept the step or not\n",
    "        # Step pk accepted\n",
    "        if (rk > htta):\n",
    "            xk_1 = np.add(xk, pk)\n",
    "            # Calculating error just for ploting\n",
    "            error = error_function(xk_1)\n",
    "            error_list.append(error)\n",
    "            \n",
    "            print(\"Iter=%d, Error=%.3f\" % (iteration, error))\n",
    "           \n",
    "        # Step pk rejected\n",
    "        else:\n",
    "            xk_1 = xk\n",
    "\n",
    "        # Update iteration and xk\n",
    "        iteration += 1\n",
    "        xk = xk_1\n",
    "\n",
    "    return xk, error_list"
   ]
  },
  {
   "cell_type": "code",
   "execution_count": 68,
   "metadata": {},
   "outputs": [
    {
     "name": "stdout",
     "output_type": "stream",
     "text": [
      "Iter=0, Step=1.7E-05, Error=1275.389\n",
      "Iter=1, Step=4.4E-03, Error=276.032\n",
      "Iter=2, Step=5.5E-02, Error=56.765\n",
      "Iter=3, Step=1.0E+00, Error=1.791\n",
      "Iter=4, Step=2.0E+00, Error=1.620\n",
      "Iter=5, Step=2.0E+00, Error=1.149\n",
      "Iter=6, Step=1.2E+00, Error=0.144\n",
      "Iter=7, Step=1.5E+00, Error=0.039\n",
      "Iter=8, Step=1.0E+00, Error=0.039\n",
      "Iter=9, Step=1.0E+00, Error=0.039\n",
      "Iter=10, Step=1.0E+00, Error=0.039\n",
      "Iter=11, Step=3.1E-02, Error=0.039\n",
      "Iter=12, Step=7.8E-03, Error=0.039\n"
     ]
    }
   ],
   "source": [
    "x0 = np.array([[5.025], [-4.898], [0.119], [3.981], [7.818]])\n",
    "x1 = np.array([[9.185], [0.944], [-7.227], [-7.014], [-4.849]])\n",
    "x2 = np.array([[6.814], [-4.914], [6.285], [-5.129], [8.585]])\n",
    "x3 = np.array([[-2.966], [6.616], [1.705], [0.994], [8.343]])\n",
    "x4 = np.array([[-7.401], [1.376], [-0.612], [-9.762], [-3.257]])\n",
    "\n",
    "init_parameters = x2\n",
    "hessian_approx = np.identity(init_parameters.shape[0])\n",
    "\n",
    "#steepest_descent_parameters, steepest_descent_errors = steepest_descent_wolf_conditions(init_parameters)\n",
    "#newton_wolf_parameters, newton_wolf_errors = newton_direction_wolf_conditions(init_parameters)\n",
    "#newton_safreg_parameters, newton_safreg_errors = newton_method_safe_region(init_parameters)\n",
    "BFGS_parameters, BFGS_errors = BFGS_wolf_conditions(init_parameters, hessian_approx)"
   ]
  },
  {
   "cell_type": "code",
   "execution_count": 107,
   "metadata": {},
   "outputs": [
    {
     "name": "stdout",
     "output_type": "stream",
     "text": [
      "[0.  0.1 0.2 0.3 0.4 0.5 0.6 0.7 0.8 0.9 1.  1.1 1.2 1.3 1.4 1.5 1.6 1.7\n",
      " 1.8 1.9 2.  2.1 2.2 2.3 2.4 2.5 2.6 2.7 2.8 2.9 3. ]\n",
      "[3.  3.1 3.2 3.3 3.4 3.5]\n"
     ]
    }
   ],
   "source": [
    "answers_trainingset = []\n",
    "data_range = np.arange(0, 31, 1) / 10\n",
    "parameters = BFGS_parameters\n",
    "\n",
    "for i in data_range:\n",
    "    #print(i)\n",
    "    answers_trainingset.append(model(parameters, i) * 10000)\n",
    "\n",
    "forcast = []\n",
    "forcast_range = np.arange(30, 36, 1) / 10\n",
    "for i in forcast_range:\n",
    "    #print(i)\n",
    "    forcast.append(model(parameters, i) * 10000)\n",
    "    \n",
    "print(data_range)\n",
    "print(forcast_range)"
   ]
  },
  {
   "cell_type": "code",
   "execution_count": 108,
   "metadata": {},
   "outputs": [
    {
     "data": {
      "text/plain": [
       "[]"
      ]
     },
     "execution_count": 108,
     "metadata": {},
     "output_type": "execute_result"
    },
    {
     "data": {
      "image/png": "[encoded data removed]",
      "text/plain": [
       "<Figure size 1080x576 with 1 Axes>"
      ]
     },
     "metadata": {
      "needs_background": "light"
     },
     "output_type": "display_data"
    }
   ],
   "source": [
    "title = \"Trained model\"\n",
    "fig, ax = plt.subplots()  # Create a figure containing a single axes.\n",
    "fig.set_size_inches(15, 8)\n",
    "ax.scatter(df_covid_data[\"Day\"], df_covid_data[\"Cases\"], c=\"r\")\n",
    "ax.plot(data_range * 10, answers_trainingset)\n",
    "ax.plot(forcast_range * 10, forcast)\n",
    "ax.set_xlabel(\"Days since 14/10/2020\", fontsize=fontsize)\n",
    "ax.set_ylabel(\"Cumulative covid-19 cases\", fontsize=fontsize)\n",
    "ax.set_title(title, fontsize=fontsize)\n",
    "ax.grid(True)\n",
    "ax.legend([\"Fitted model\", \"Forecast\", \"Datapoints\"], fontsize=fontsize)\n",
    "fig.savefig(title, facecolor='w')\n",
    "ax.plot()"
   ]
  },
  {
   "cell_type": "code",
   "execution_count": 81,
   "metadata": {},
   "outputs": [
    {
     "data": {
      "text/plain": [
       "[]"
      ]
     },
     "execution_count": 81,
     "metadata": {},
     "output_type": "execute_result"
    },
    {
     "data": {
      "image/png": "[encoded data removed]",
      "text/plain": [
       "<Figure size 1080x576 with 1 Axes>"
      ]
     },
     "metadata": {
      "needs_background": "light"
     },
     "output_type": "display_data"
    }
   ],
   "source": [
    "# Errors are shit format\n",
    "errors = BFGS_errors\n",
    "\n",
    "title = \"Error per iteration\"\n",
    "fig, ax = plt.subplots()  # Create a figure containing a single axes.\n",
    "fig.set_size_inches(15, 8)\n",
    "ax.plot(list(range(len(errors))), errors)\n",
    "ax.set_xlabel(\"Iteration\", fontsize=fontsize)\n",
    "ax.set_ylabel(\"Error\", fontsize=fontsize)\n",
    "ax.set_title(title, fontsize=fontsize)\n",
    "ax.grid(True)\n",
    "fig.savefig(title, facecolor='w')\n",
    "ax.plot()"
   ]
  },
  {
   "cell_type": "markdown",
   "metadata": {},
   "source": [
    "## Evaluate the models"
   ]
  },
  {
   "cell_type": "code",
   "execution_count": null,
   "metadata": {},
   "outputs": [],
   "source": [
    "def mean_squared_error(y_true, y_pred):\n",
    "    mse = (np.square(y_true - y_pred)).mean(axis=0)\n",
    "    return mse"
   ]
  },
  {
   "cell_type": "code",
   "execution_count": 88,
   "metadata": {},
   "outputs": [],
   "source": [
    "forcast = np.asarray(forcast)\n",
    "real = np.array([[69675], [72510], [74205], [76403], [0]])\n",
    "df_covid_data_testset = pd.DataFrame(data = np.array([[31, 69675], [32, 72510], [33, 74205], [34, 76403], [35, 78825]]), \n",
    "                          columns = [\"Day\", \"Cases\"])\n",
    "df_covid_data_testset[\"Scaled Day\"] = df_covid_data_testset[\"Day\"].div(10)\n",
    "df_covid_data_testset[\"Scaled Cases\"] = df_covid_data_testset[\"Cases\"].div(10000)"
   ]
  },
  {
   "cell_type": "code",
   "execution_count": 89,
   "metadata": {},
   "outputs": [],
   "source": [
    "#mean_squared_error(real, forcast)"
   ]
  },
  {
   "cell_type": "code",
   "execution_count": 109,
   "metadata": {},
   "outputs": [
    {
     "data": {
      "text/plain": [
       "0    69675\n",
       "1    72510\n",
       "2    74205\n",
       "3    76403\n",
       "4    78825\n",
       "Name: Cases, dtype: int64"
      ]
     },
     "execution_count": 109,
     "metadata": {},
     "output_type": "execute_result"
    }
   ],
   "source": [
    "df_covid_data_testset[\"Cases\"]"
   ]
  },
  {
   "cell_type": "code",
   "execution_count": 33,
   "metadata": {},
   "outputs": [],
   "source": [
    "x = -0.1\n"
   ]
  },
  {
   "cell_type": "code",
   "execution_count": 32,
   "metadata": {},
   "outputs": [
    {
     "data": {
      "text/plain": [
       "-0.1"
      ]
     },
     "execution_count": 32,
     "metadata": {},
     "output_type": "execute_result"
    }
   ],
   "source": [
    "x"
   ]
  },
  {
   "cell_type": "code",
   "execution_count": 73,
   "metadata": {},
   "outputs": [
    {
     "data": {
      "text/plain": [
       "[1360351.9617803507,\n",
       " 1275.389479969479,\n",
       " 276.03206782643116,\n",
       " 56.76487036439085,\n",
       " 1.7910899460829814,\n",
       " 1.6196725932786091,\n",
       " 1.14863630695852,\n",
       " 0.14374784914544386,\n",
       " 0.0394985562084106,\n",
       " 0.0391280223992109,\n",
       " 0.039127821614078045,\n",
       " 0.03912782065317118,\n",
       " 0.039127820653171067,\n",
       " 0.03912782065317058]"
      ]
     },
     "execution_count": 73,
     "metadata": {},
     "output_type": "execute_result"
    }
   ],
   "source": [
    "BFGS_errors"
   ]
  },
  {
   "cell_type": "code",
   "execution_count": 99,
   "metadata": {},
   "outputs": [],
   "source": [
    "data_range = np.arange(0, 31, 1) / 10"
   ]
  },
  {
   "cell_type": "code",
   "execution_count": 100,
   "metadata": {},
   "outputs": [
    {
     "data": {
      "text/plain": [
       "array([0. , 0.1, 0.2, 0.3, 0.4, 0.5, 0.6, 0.7, 0.8, 0.9, 1. , 1.1, 1.2,\n",
       "       1.3, 1.4, 1.5, 1.6, 1.7, 1.8, 1.9, 2. , 2.1, 2.2, 2.3, 2.4, 2.5,\n",
       "       2.6, 2.7, 2.8, 2.9, 3. ])"
      ]
     },
     "execution_count": 100,
     "metadata": {},
     "output_type": "execute_result"
    }
   ],
   "source": [
    "data_range"
   ]
  },
  {
   "cell_type": "code",
   "execution_count": 98,
   "metadata": {},
   "outputs": [
    {
     "data": {
      "text/plain": [
       "array([30, 31, 32, 33, 34, 35])"
      ]
     },
     "execution_count": 98,
     "metadata": {},
     "output_type": "execute_result"
    }
   ],
   "source": [
    "np.arange(30, 36, 1)"
   ]
  },
  {
   "cell_type": "code",
   "execution_count": null,
   "metadata": {},
   "outputs": [],
   "source": []
  }
 ],
 "metadata": {
  "kernelspec": {
   "display_name": "Python 3",
   "language": "python",
   "name": "python3"
  },
  "language_info": {
   "codemirror_mode": {
    "name": "ipython",
    "version": 3
   },
   "file_extension": ".py",
   "mimetype": "text/x-python",
   "name": "python",
   "nbconvert_exporter": "python",
   "pygments_lexer": "ipython3",
   "version": "3.8.6"
  }
 },
 "nbformat": 4,
 "nbformat_minor": 4
}
